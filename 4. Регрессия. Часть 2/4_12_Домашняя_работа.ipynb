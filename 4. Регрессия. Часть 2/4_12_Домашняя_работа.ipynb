{
  "cells": [
    {
      "cell_type": "markdown",
      "metadata": {
        "id": "NTvgYjVhnE6h"
      },
      "source": [
        "### Домашняя работа\n",
        "\n",
        "**Задача высокого уровня** В реализацию функции `gradient` добавьте параметр $\\lambda$, чтобы получить регуляризованный градиентный спуск\n",
        "\n",
        "Формула поменяется следующим образом:\n",
        "$$\n",
        "\\left\\{\n",
        "\\begin{array}{cc}\n",
        "\\frac{\\partial L}{\\partial w_0} = \\frac{2}{n}\\cdot(-1)\\cdot \\sum_{i=1}^{n} (1\\cdot \\left(y_i - \\sum_{j=1}^{m}w_jx_j^i\\right) + \\lambda\\cdot 2\\cdot w_0)&\\\\\n",
        "\\frac{\\partial L}{\\partial w_k} = \\frac{2}{n}\\cdot(-1)\\cdot \\sum_{i=1}^{n} (x_k^i \\cdot\\left(y_i - \\sum_{j=1}^{m}w_jx_j^i\\right) + \\lambda\\cdot 2\\cdot w_k)& k\\neq 0 \\\\\n",
        "\\end{array}\n",
        "\\right.\n",
        "$$"
      ]
    },
    {
      "cell_type": "code",
      "execution_count": 2,
      "metadata": {},
      "outputs": [
        {
          "data": {
            "text/html": [
              "<div>\n",
              "<style scoped>\n",
              "    .dataframe tbody tr th:only-of-type {\n",
              "        vertical-align: middle;\n",
              "    }\n",
              "\n",
              "    .dataframe tbody tr th {\n",
              "        vertical-align: top;\n",
              "    }\n",
              "\n",
              "    .dataframe thead th {\n",
              "        text-align: right;\n",
              "    }\n",
              "</style>\n",
              "<table border=\"1\" class=\"dataframe\">\n",
              "  <thead>\n",
              "    <tr style=\"text-align: right;\">\n",
              "      <th></th>\n",
              "      <th>x_train</th>\n",
              "      <th>y_train</th>\n",
              "    </tr>\n",
              "  </thead>\n",
              "  <tbody>\n",
              "    <tr>\n",
              "      <th>5</th>\n",
              "      <td>1.182421</td>\n",
              "      <td>1.860341</td>\n",
              "    </tr>\n",
              "    <tr>\n",
              "      <th>6</th>\n",
              "      <td>1.251605</td>\n",
              "      <td>1.878928</td>\n",
              "    </tr>\n",
              "    <tr>\n",
              "      <th>7</th>\n",
              "      <td>1.270474</td>\n",
              "      <td>2.430015</td>\n",
              "    </tr>\n",
              "    <tr>\n",
              "      <th>8</th>\n",
              "      <td>1.402553</td>\n",
              "      <td>2.327856</td>\n",
              "    </tr>\n",
              "    <tr>\n",
              "      <th>9</th>\n",
              "      <td>1.427711</td>\n",
              "      <td>2.203649</td>\n",
              "    </tr>\n",
              "  </tbody>\n",
              "</table>\n",
              "</div>"
            ],
            "text/plain": [
              "    x_train   y_train\n",
              "5  1.182421  1.860341\n",
              "6  1.251605  1.878928\n",
              "7  1.270474  2.430015\n",
              "8  1.402553  2.327856\n",
              "9  1.427711  2.203649"
            ]
          },
          "execution_count": 2,
          "metadata": {},
          "output_type": "execute_result"
        }
      ],
      "source": [
        "import numpy as np\n",
        "import pandas as pd\n",
        "\n",
        "data = pd.read_csv('non_linear.csv', sep=',')\n",
        "data = data[(data.x_train > 1) & (data.x_train < 5)].copy()\n",
        "data.head()"
      ]
    },
    {
      "cell_type": "code",
      "execution_count": 3,
      "metadata": {
        "id": "zxpLYBR9PuBe"
      },
      "outputs": [],
      "source": [
        "from scipy.spatial import distance\n",
        "\n",
        "def gradient(X, y, w, r_coef=0):\n",
        "    # количество обучающих примеров в выборке\n",
        "    n = X.shape[0]\n",
        "    # считаем прогноз\n",
        "    y_hat = X.dot(w.T)\n",
        "    # вычисляем ошибку прогноза\n",
        "    error = y - y_hat\n",
        "    # дальше pointwise перемножение - умножаем каждую из координат на ошибку\n",
        "    grad = -2.0/n * (np.multiply(X, error) + r_coef * 2 * w).sum(axis=0)\n",
        "    return grad, error\n",
        "\n",
        "def eval_w_next(X, y, eta, w_current, r_coef):\n",
        "    # вычисляем градиент\n",
        "    grad, error = gradient(X, y, w_current, r_coef)\n",
        "    # делаем шаг градиентного спуска\n",
        "    w_next = w_current - eta*grad\n",
        "    # проверяем условие сходимости\n",
        "    weight_evolution = distance.euclidean(w_current, w_next)\n",
        "    return (w_next, weight_evolution, grad)\n",
        "\n",
        "def gradient_descent(X: np.array, y: np.array, eta=0.01, epsilon=0.001, r_coef=0) -> np.array:\n",
        "    m = X.shape[1] # количество фичей\n",
        "    # инициализируем рандомом веса\n",
        "    w = np.random.random(m).reshape(1, -1)\n",
        "    w_next, weight_evolution, grad = eval_w_next(X, y, eta, w, r_coef)\n",
        "    step = 0\n",
        "    # повторяем до сходимости вектора весов\n",
        "    while weight_evolution > epsilon:\n",
        "        w = w_next\n",
        "        w_next, weight_evolution, grad = eval_w_next(X, y, eta, w, r_coef)\n",
        "        step += 1\n",
        "        if step % 100 ==0:\n",
        "            print(\"step %s |w-w_next|=%.5f, grad=%s\" % (step, weight_evolution, grad))\n",
        "    return w"
      ]
    },
    {
      "cell_type": "code",
      "execution_count": 4,
      "metadata": {},
      "outputs": [
        {
          "name": "stdout",
          "output_type": "stream",
          "text": [
            "step 100 |w-w_next|=0.00538, grad=[-0.6459346   0.18659769]\n",
            "step 200 |w-w_next|=0.00472, grad=[-0.56674719  0.16372199]\n",
            "step 300 |w-w_next|=0.00414, grad=[-0.49726765  0.14365073]\n",
            "step 400 |w-w_next|=0.00363, grad=[-0.43630584  0.12604008]\n",
            "step 500 |w-w_next|=0.00319, grad=[-0.38281756  0.11058838]\n",
            "step 600 |w-w_next|=0.00280, grad=[-0.3358866   0.09703096]\n",
            "step 700 |w-w_next|=0.00245, grad=[-0.29470907  0.08513559]\n",
            "step 800 |w-w_next|=0.00215, grad=[-0.25857964  0.07469851]\n",
            "step 900 |w-w_next|=0.00189, grad=[-0.22687944  0.06554096]\n",
            "step 1000 |w-w_next|=0.00166, grad=[-0.19906549  0.05750606]\n",
            "step 1100 |w-w_next|=0.00145, grad=[-0.17466134  0.05045619]\n",
            "step 1200 |w-w_next|=0.00128, grad=[-0.15324899  0.04427059]\n",
            "step 1300 |w-w_next|=0.00112, grad=[-0.13446165  0.0388433 ]\n"
          ]
        }
      ],
      "source": [
        "# трансформируем плоский массив X в вектор-столбец\n",
        "X = data['x_train'].values.reshape(-1, 1)\n",
        "n = X.shape[0]\n",
        "# добавляем тривиальный признак w_0, столбец из единиц. См. прошлый урок, почему так\n",
        "X = np.hstack([\n",
        "    np.ones(n).reshape(-1,1),\n",
        "    X\n",
        "])\n",
        "w = gradient_descent(X, data['y_train'].values.reshape(-1, 1), eta=0.008, r_coef=0.02)"
      ]
    },
    {
      "cell_type": "markdown",
      "metadata": {
        "id": "dQ7gRtDmnE6p"
      },
      "source": [
        "В этом модуле мы узнали, как  обучать линейную регрессию, не \"упираясь\" в аппаратные ресурсы: использовать градиентный спуск.\n",
        "Мы узнали, как детектировать переобучение модели и закрепили свои знания на примере полиномиальной регрессии и выяснили, как увеличить качество решения с помощью механизма регуляризации. Познакомились с двумя видами регуляризации -  Ridge и Lasso."
      ]
    }
  ],
  "metadata": {
    "celltoolbar": "Slideshow",
    "colab": {
      "collapsed_sections": [],
      "provenance": []
    },
    "kernelspec": {
      "display_name": "Python 3.9.6 64-bit",
      "language": "python",
      "name": "python3"
    },
    "language_info": {
      "codemirror_mode": {
        "name": "ipython",
        "version": 3
      },
      "file_extension": ".py",
      "mimetype": "text/x-python",
      "name": "python",
      "nbconvert_exporter": "python",
      "pygments_lexer": "ipython3",
      "version": "3.9.6"
    },
    "vscode": {
      "interpreter": {
        "hash": "37be37ad8006aa88fc89cee14533a072e8fd620157e18a3f0302e9281d761604"
      }
    }
  },
  "nbformat": 4,
  "nbformat_minor": 0
}
