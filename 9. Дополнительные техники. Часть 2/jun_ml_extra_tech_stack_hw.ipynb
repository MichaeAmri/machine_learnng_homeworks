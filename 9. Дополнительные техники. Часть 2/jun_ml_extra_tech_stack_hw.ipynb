{
 "nbformat": 4,
 "nbformat_minor": 0,
 "metadata": {
  "colab": {
   "provenance": []
  },
  "kernelspec": {
   "display_name": "Python 3",
   "language": "python",
   "name": "python3"
  },
  "language_info": {
   "codemirror_mode": {
    "name": "ipython",
    "version": 3
   },
   "file_extension": ".py",
   "mimetype": "text/x-python",
   "name": "python",
   "nbconvert_exporter": "python",
   "pygments_lexer": "ipython3",
   "version": "3.6.3"
  }
 },
 "cells": [
  {
   "cell_type": "markdown",
   "metadata": {
    "id": "YTnbWDwjNqBj"
   },
   "source": [
    "# Stacking\n",
    "\n",
    "Несмотря на то, что в открытом доступе существует довольно много реализаций стекинга, некоторые из которых даже представлены в виде библиотечных функций, лучше сделать собственную. Стекинг - не классический алгоритм решения задачи, а скорее набор правил для помощи в решении задачи другим алгоритмам. Если вы серьезно займетесь машинным обучением, рано или поздно вам скорее всего захочется что-нибудь поменять в этом наборе правил, поэтому собственная реализация с понятным вам кодом будет как нельзя кстати."
   ]
  },
  {
   "cell_type": "markdown",
   "metadata": {
    "id": "F0AKW53hNqBk"
   },
   "source": [
    "В этом домашнем задании вы создадите собственную функцию для блендинга/классического стекинга моделей, которая пригодится вам в дальнейшем.\n",
    "\n",
    "Ниже вы увидите заготовку для функции, где:\n",
    "\n",
    "- models - список объектов базовых алгоритмов\n",
    "\n",
    "- meta_alg - мета-алгоритм\n",
    "\n",
    "data_train, targets_train, data_test, targets_test - тренировочные и тестовые признаки и целевые переменные\n",
    "\n",
    "- test_size - размер тестовых данных для блендинга в промежутке (0, 1)\n",
    "\n",
    "- cv - количество разбиений для кросс-валидации"
   ]
  },
  {
   "cell_type": "code",
   "metadata": {
    "id": "vVIUJhUMNqBl"
   },
   "source": [
    "from sklearn.model_selection import cross_val_predict\n",
    "from sklearn.model_selection import StratifiedKFold\n",
    "from sklearn.model_selection import train_test_split\n",
    "from sklearn.metrics import roc_auc_score, RocCurveDisplay\n",
    "\n",
    "import pandas as pd\n",
    "import numpy as np\n",
    "\n",
    "import warnings\n",
    "warnings.filterwarnings('ignore')"
   ],
   "execution_count": 1,
   "outputs": []
  },
  {
   "cell_type": "code",
   "metadata": {
    "id": "BDRkf96PNqBo"
   },
   "source": [
    "# def stacking(models, meta_alg, data_train, targets_train, data_test, targets_test=None, test_size=None, cv=5):\n",
    "#"
   ],
   "execution_count": 2,
   "outputs": []
  },
  {
   "cell_type": "markdown",
   "metadata": {
    "id": "qMaQZPnxNqBr"
   },
   "source": [
    "### 1.\n",
    "В следующей ячейке в теле функции определен условный оператор if-else. После elif вместо pass пропишите код из лекции с некоторыми новыми вставками в таком порядке: деление data_train и targets_train на тренировочные и валидационные данные с помощью функции train_test_split, где test_size=test_size из определения функции; определение матрицы meta_mtrx; цикл, в котором заполняется meta_mtrx: сначала строка, где модель обучается с помощью метода fit на тренировочных данных из разбиения, затем строка, где матрица заполняется значениями предсказаний моделей на валидационных данных. На этом цикл заканчивается.\n",
    "\n",
    "После цикла добавьте строку с методом fit мета-алгоритма: обучите его на значениях полученной матрицы meta_mtrx и целевой переменной для валидационных данных.\n",
    "\n",
    "Определите матрицу meta_mtrx_test. Напишите цикл, где эта матрица заполняется предсказаниями базовых моделей на тестовых данных data_test.\n",
    "\n",
    "После цикла сделайте предсказания мета-алгоритма для значений матрицы meta_mtrx_test.\n",
    "\n",
    "Дополните код еще одним оператором if, который будет проверять, существуют ли данные targets_test для проверки качества работы модели на тестовых данных: если targets_test не является None, тогда выведите метрику roc_auc_score для предсказаний мета-алгоритма на тестовых данных."
   ]
  },
  {
   "cell_type": "code",
   "metadata": {
    "id": "u0dJcqB5NqBr"
   },
   "source": [
    "def stacking(models, meta_alg, data_train, targets_train, data_test, targets_test=None, random_state=None, test_size=None, cv=5):\n",
    "    if test_size is None:\n",
    "        pass\n",
    "\n",
    "    elif 0 < test_size < 1:\n",
    "        train, valid, train_true, valid_true = train_test_split(data_train,\n",
    "                                                                targets_train,\n",
    "                                                                test_size=test_size)\n",
    "        meta_mtrx = np.empty((valid.shape[0], len(models)))\n",
    "        for n, model in enumerate(models):\n",
    "            model.fit(train, train_true)\n",
    "            meta_mtrx[:, n] = model.predict(valid)\n",
    "        meta_alg.fit(meta_mtrx, valid_true)\n",
    "\n",
    "        meta_mtrx_test = np.empty((data_test.shape[0], len(models)))\n",
    "        for n, model in enumerate(models):\n",
    "            meta_mtrx_test[:, n] = model.predict(data_test)\n",
    "        meta_predict = meta_alg.predict(meta_mtrx_test)\n",
    "        if targets_test is not None:\n",
    "            roc_auc_score(targets_test, meta_predict)\n",
    "\n",
    "    else:\n",
    "        raise ValueError(\"test_size must be between 0 and 1\")"
   ],
   "execution_count": 3,
   "outputs": []
  },
  {
   "cell_type": "markdown",
   "metadata": {
    "id": "VZ7ssAZ-NqBu"
   },
   "source": [
    "### 2.\n",
    "Теперь напишите код стекинга вместо pass после оператора if.\n",
    "\n",
    "Сразу определите матрицу meta_mtrx. Напишите цикл для заполнения матрицы: сначала напишите строку, где каждый столбец метапризнаков (для каждой модели) заполняется с помощью функции cross_val_predict(base_algotithm, data_train, targets_train, cv, method='predict'); следующая строка - обучите каждый базовый алгоритм на полном тренировочном датасете.\n",
    "\n",
    "После цикла обучите мета-алгоритм на матрице метапризнаков meta_mtrx. Определите матрицу meta_mtrx_test.\n",
    "\n",
    "Напишите второй цикл, где матрица meta_mtrx_test заполняется предсказаниями базовых моделей на тестовых данных data_test.\n",
    "\n",
    "После цикла сделайте предсказания мета-алгоритма для значений матрицы meta_mtrx_test.\n",
    "\n",
    "Так же, как и для блендинга, напишите код проверки для targets_test и выведите roc_auc_score, если это возможно."
   ]
  },
  {
   "cell_type": "code",
   "metadata": {
    "id": "1aYbDelYNqBu"
   },
   "source": [
    "def stacking(models, meta_alg, data_train, targets_train, data_test, targets_test=None, random_state=None, test_size=None, cv=5):\n",
    "\n",
    "    if test_size is None:\n",
    "        meta_mtrx = np.empty((data_train.shape[0], len(models)))\n",
    "        for n, model in enumerate(models):\n",
    "            meta_mtrx[:, n] = cross_val_predict(model, data_train, targets_train, cv=cv, method='predict')\n",
    "            models[n] = model.fit(data_train, targets_train)\n",
    "        meta_alg.fit(meta_mtrx)\n",
    "\n",
    "        meta_mtrx_test = np.empty((data_test.shape[0], len(models)))\n",
    "        for n, model in enumerate(models):\n",
    "            meta_mtrx_test[:, n] = model.predict(data_test)\n",
    "        meta_predict = meta_alg.predict(meta_mtrx_test)\n",
    "\n",
    "        if targets_test is not None:\n",
    "            score = roc_auc_score(targets_test, meta_predict)\n",
    "            print(f'roc_auc_score = {score}')\n",
    "\n",
    "    elif 0 < test_size < 1:\n",
    "        train, valid, train_true, valid_true = train_test_split(data_train,\n",
    "                                                                targets_train,\n",
    "                                                                test_size=test_size)\n",
    "        meta_mtrx = np.empty((valid.shape[0], len(models)))\n",
    "        for n, model in enumerate(models):\n",
    "            models[n] = model.fit(train, train_true)\n",
    "            meta_mtrx[:, n] = model.predict(valid)\n",
    "        meta_alg.fit(meta_mtrx, valid_true)\n",
    "\n",
    "        meta_mtrx_test = np.empty((data_test.shape[0], len(models)))\n",
    "        for n, model in enumerate(models):\n",
    "            meta_mtrx_test[:, n] = model.predict(data_test)\n",
    "        meta_predict = meta_alg.predict(meta_mtrx_test)\n",
    "\n",
    "        if targets_test is not None:\n",
    "            score = roc_auc_score(targets_test, meta_predict)\n",
    "            print(f'roc_auc_score = {score}')\n",
    "\n",
    "    else:\n",
    "        raise ValueError(\"test_size must be between 0 and 1\")"
   ],
   "execution_count": 21,
   "outputs": []
  },
  {
   "cell_type": "markdown",
   "metadata": {
    "id": "ktP_ZympNqBx"
   },
   "source": [
    "### 3.\n",
    "Базовая функция стекинга готова. Теперь проверим, как она работает. Ниже представлен уже знакомый нам датасет Titanic, разделенный на тренировочный и тестовый датасеты; предопределенные базовые алгоритмы и мета-алгоритм. Ваша задача - составить список базовых алгоритмов и запустить функцию в трех различных вариантах (при этом в каждом из них все значения data_train, targets_train, data_test, targets_test должны быть определены):\n",
    "\n",
    "1. Вызвать исключение \"test_size must be between 0 and 1\".\n",
    "\n",
    "2. Установить test_size=0.3; вывести AUC и массив полученных предсказаний.\n",
    "\n",
    "3. Оставить test_size=None; вывести AUC и массив полученных предсказаний."
   ]
  },
  {
   "cell_type": "code",
   "execution_count": 22,
   "outputs": [],
   "source": [
    "class Stacking:\n",
    "\n",
    "    def __init__(self, models, meta_alg, random_state=None, cv=5):\n",
    "        self.models = models\n",
    "        self.meta_alg = meta_alg\n",
    "        self.random_state = random_state\n",
    "        self.cv = cv\n",
    "\n",
    "    def fit(self, data_train, targets_train, test_size=None):\n",
    "        if test_size is None:\n",
    "            meta_mtrx = np.empty((data_train.shape[0], len(self.models)))\n",
    "            for n, model in enumerate(self.models):\n",
    "                meta_mtrx[:, n] = cross_val_predict(model, data_train, targets_train, cv=self.cv, method='predict')\n",
    "                self.models[n].fit(data_train, targets_train)\n",
    "            self.meta_alg.fit(meta_mtrx, targets_train)\n",
    "\n",
    "        elif 0 < test_size < 1:\n",
    "            train, valid, train_true, valid_true = train_test_split(data_train,\n",
    "                                                                    targets_train,\n",
    "                                                                    test_size=test_size)\n",
    "            meta_mtrx = np.empty((valid.shape[0], len(self.models)))\n",
    "            for n, model in enumerate(self.models):\n",
    "                self.models[n].fit(train, train_true)\n",
    "                meta_mtrx[:, n] = self.models[n].predict(valid)\n",
    "            self.meta_alg.fit(meta_mtrx, valid_true)\n",
    "\n",
    "        else:\n",
    "            raise ValueError(\"test_size must be between 0 and 1\")\n",
    "\n",
    "    def predict(self, data_test, test_size=None):\n",
    "        if test_size is None:\n",
    "            meta_mtrx_test = np.empty((data_test.shape[0], len(self.models)))\n",
    "            for n, model in enumerate(self.models):\n",
    "                meta_mtrx_test[:, n] = model.predict(data_test)\n",
    "            meta_predict = self.meta_alg.predict(meta_mtrx_test)\n",
    "            return meta_predict\n",
    "\n",
    "        elif 0 < test_size < 1:\n",
    "            meta_mtrx_test = np.empty((data_test.shape[0], len(self.models)))\n",
    "            for n, model in enumerate(self.models):\n",
    "                meta_mtrx_test[:, n] = model.predict(data_test)\n",
    "            meta_predict = self.meta_alg.predict(meta_mtrx_test)\n",
    "            return meta_predict\n"
   ],
   "metadata": {
    "collapsed": false
   }
  },
  {
   "cell_type": "code",
   "metadata": {
    "id": "2kJT4LjRNqBx"
   },
   "source": [
    "from sklearn.neighbors import KNeighborsClassifier\n",
    "from sklearn.linear_model import LogisticRegression\n",
    "from sklearn.svm import SVC\n",
    "from xgboost import XGBClassifier\n",
    "\n",
    "\n",
    "titanic = pd.read_csv('titanic.csv')\n",
    "targets = titanic.Survived\n",
    "data = titanic.drop(columns='Survived')\n",
    "\n",
    "x_train, x_test, y_train, y_test = train_test_split(data, \n",
    "                                                    targets,\n",
    "                                                    train_size=0.8,\n",
    "                                                    random_state=17)\n",
    "\n",
    "knn = KNeighborsClassifier(n_neighbors=3)\n",
    "lr = LogisticRegression(random_state=17)\n",
    "svc = SVC(random_state=17)\n",
    "\n",
    "meta = XGBClassifier(n_estimators=40)"
   ],
   "execution_count": 23,
   "outputs": []
  },
  {
   "cell_type": "code",
   "execution_count": 7,
   "outputs": [
    {
     "ename": "ValueError",
     "evalue": "test_size must be between 0 and 1",
     "output_type": "error",
     "traceback": [
      "\u001B[1;31m---------------------------------------------------------------------------\u001B[0m",
      "\u001B[1;31mValueError\u001B[0m                                Traceback (most recent call last)",
      "\u001B[1;32m~\\AppData\\Local\\Temp/ipykernel_36044/3808817469.py\u001B[0m in \u001B[0;36m<module>\u001B[1;34m\u001B[0m\n\u001B[0;32m      1\u001B[0m \u001B[1;31m# 1. Вызвать исключение \"test_size must be between 0 and 1\".\u001B[0m\u001B[1;33m\u001B[0m\u001B[1;33m\u001B[0m\u001B[1;33m\u001B[0m\u001B[0m\n\u001B[0;32m      2\u001B[0m \u001B[0mst\u001B[0m \u001B[1;33m=\u001B[0m \u001B[0mStacking\u001B[0m\u001B[1;33m(\u001B[0m\u001B[0mmodels\u001B[0m\u001B[1;33m=\u001B[0m\u001B[1;33m(\u001B[0m\u001B[0mknn\u001B[0m\u001B[1;33m,\u001B[0m \u001B[0mlr\u001B[0m\u001B[1;33m,\u001B[0m \u001B[0msvc\u001B[0m\u001B[1;33m)\u001B[0m\u001B[1;33m,\u001B[0m \u001B[0mmeta_alg\u001B[0m\u001B[1;33m=\u001B[0m\u001B[0mmeta\u001B[0m\u001B[1;33m)\u001B[0m\u001B[1;33m\u001B[0m\u001B[1;33m\u001B[0m\u001B[0m\n\u001B[1;32m----> 3\u001B[1;33m st.fit(data_train=x_train,\n\u001B[0m\u001B[0;32m      4\u001B[0m        \u001B[0mtargets_train\u001B[0m\u001B[1;33m=\u001B[0m\u001B[0my_train\u001B[0m\u001B[1;33m,\u001B[0m\u001B[1;33m\u001B[0m\u001B[1;33m\u001B[0m\u001B[0m\n\u001B[0;32m      5\u001B[0m        test_size=2)\n",
      "\u001B[1;32m~\\AppData\\Local\\Temp/ipykernel_36044/2841263860.py\u001B[0m in \u001B[0;36mfit\u001B[1;34m(self, data_train, targets_train, test_size)\u001B[0m\n\u001B[0;32m     27\u001B[0m \u001B[1;33m\u001B[0m\u001B[0m\n\u001B[0;32m     28\u001B[0m         \u001B[1;32melse\u001B[0m\u001B[1;33m:\u001B[0m\u001B[1;33m\u001B[0m\u001B[1;33m\u001B[0m\u001B[0m\n\u001B[1;32m---> 29\u001B[1;33m             \u001B[1;32mraise\u001B[0m \u001B[0mValueError\u001B[0m\u001B[1;33m(\u001B[0m\u001B[1;34m\"test_size must be between 0 and 1\"\u001B[0m\u001B[1;33m)\u001B[0m\u001B[1;33m\u001B[0m\u001B[1;33m\u001B[0m\u001B[0m\n\u001B[0m\u001B[0;32m     30\u001B[0m \u001B[1;33m\u001B[0m\u001B[0m\n\u001B[0;32m     31\u001B[0m     \u001B[1;32mdef\u001B[0m \u001B[0mpredict\u001B[0m\u001B[1;33m(\u001B[0m\u001B[0mself\u001B[0m\u001B[1;33m,\u001B[0m \u001B[0mdata_test\u001B[0m\u001B[1;33m,\u001B[0m \u001B[0mtest_size\u001B[0m\u001B[1;33m=\u001B[0m\u001B[1;32mNone\u001B[0m\u001B[1;33m)\u001B[0m\u001B[1;33m:\u001B[0m\u001B[1;33m\u001B[0m\u001B[1;33m\u001B[0m\u001B[0m\n",
      "\u001B[1;31mValueError\u001B[0m: test_size must be between 0 and 1"
     ]
    }
   ],
   "source": [
    "# 1. Вызвать исключение \"test_size must be between 0 and 1\".\n",
    "st = Stacking(models=(knn, lr, svc), meta_alg=meta)\n",
    "st.fit(data_train=x_train,\n",
    "       targets_train=y_train,\n",
    "       test_size=2)"
   ],
   "metadata": {
    "collapsed": false
   }
  },
  {
   "cell_type": "code",
   "execution_count": 24,
   "outputs": [
    {
     "name": "stdout",
     "output_type": "stream",
     "text": [
      "[0 1 0 0 1 0 0 0 0 1 1 0 0 0 1 0 1 0 1 0 1 0 1 0 1 0 0 0 0 0 0 0 0 1 0 1 0\n",
      " 1 0 1 1 0 1 0 1 0 0 1 1 0 1 1 0 0 0 1 0 0 0 0 1 0 0 1 1 1 1 0 0 0 1 0 0 1\n",
      " 0 1 1 0 0 0 1 1 0 0 0 0 0 0 0 0 1 1 0 0 0 0 1 0 0 1 0 1 1 1 1 1 0 0 0 0 0\n",
      " 0 0 1 1 1 1 0 1 0 0 1 1 0 1 0 0 1 0 0 0 1 0 1 0 0 1 0 0 1 0 0 0 1 0 1 0 0\n",
      " 0 1 1 0 0 0 1 0 0 0 1 0 1 0 1 0 0 1 0 1 0 0 1 0 1 0 0 0 1 0 1]\n"
     ]
    },
    {
     "data": {
      "text/plain": "<Figure size 432x288 with 1 Axes>",
      "image/png": "[encoded data removed]"
     },
     "metadata": {},
     "output_type": "display_data"
    }
   ],
   "source": [
    "# 2. Установить test_size=0.3; вывести AUC и массив полученных предсказаний.\n",
    "st.fit(data_train=x_train,\n",
    "       targets_train=y_train,\n",
    "       test_size=0.3)\n",
    "score = roc_auc_score(y_test, st.predict(x_test))\n",
    "RocCurveDisplay.from_predictions(y_test, st.predict(x_test))\n",
    "print(st.predict(x_test))"
   ],
   "metadata": {
    "collapsed": false
   }
  },
  {
   "cell_type": "code",
   "execution_count": 25,
   "outputs": [
    {
     "name": "stdout",
     "output_type": "stream",
     "text": [
      "[0 1 0 0 1 0 0 0 0 1 1 0 0 0 1 0 1 0 1 0 1 0 1 0 1 0 0 0 0 0 0 0 0 1 0 1 0\n",
      " 1 0 1 1 0 1 0 1 0 0 1 1 0 1 1 0 0 0 1 0 0 0 0 1 0 1 1 1 1 1 0 0 0 1 0 0 1\n",
      " 0 1 1 0 0 0 1 1 0 0 0 0 0 0 0 0 1 1 0 0 0 0 1 0 0 1 0 1 1 1 1 1 0 0 0 0 0\n",
      " 0 0 1 1 1 1 0 1 0 0 1 1 0 1 0 0 1 0 0 0 1 0 1 0 0 1 0 1 1 0 0 0 1 0 1 0 0\n",
      " 0 1 1 0 0 0 1 0 0 0 1 0 1 0 1 0 0 1 0 1 0 0 1 0 1 0 0 0 1 0 1]\n"
     ]
    },
    {
     "data": {
      "text/plain": "<Figure size 432x288 with 1 Axes>",
      "image/png": "[encoded data removed]"
     },
     "metadata": {},
     "output_type": "display_data"
    }
   ],
   "source": [
    "# 3. Оставить test_size=None; вывести AUC и массив полученных предсказаний.\n",
    "st = Stacking(models=(knn, lr, svc), meta_alg=meta)\n",
    "st.fit(data_train=x_train, targets_train=y_train)\n",
    "score = roc_auc_score(y_test, st.predict(x_test))\n",
    "RocCurveDisplay.from_predictions(y_test, st.predict(x_test))\n",
    "print(st.predict(x_test))"
   ],
   "metadata": {
    "collapsed": false
   }
  },
  {
   "cell_type": "markdown",
   "metadata": {
    "id": "QT9CNfbBNqB2"
   },
   "source": [
    "По мере того, как вы будете использовать эту функцию, вам могут пригодиться такие дополнительные параметры как: random_state, который позволит делать воспроизводимые модели; metrics - список метрик, которые могут быть вычислены; grid_search, который может производить поиск лучших параметров для алгоритмов, и т.д."
   ]
  }
 ]
}
