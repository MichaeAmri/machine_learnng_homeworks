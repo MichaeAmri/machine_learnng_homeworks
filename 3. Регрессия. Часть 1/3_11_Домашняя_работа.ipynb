{
  "cells": [
    {
      "cell_type": "markdown",
      "metadata": {
        "id": "cisB24TazhU2"
      },
      "source": [
        "### Домашняя работа\n",
        "\n",
        "**Задание простого уровня** Мы говорили, что метрики качества нужны, чтобы сравнивать различные модели между собой. В задаче полиномиальной регрессии реализуйте код для выбора лучшей степени полиному:\n",
        "\n",
        "* возьмите все степени от 1 до 10 по порядку, без пропусков.\n",
        "* найдите степень полинома, где будет лучший r2-score\n",
        "* напишите код, который выводит самую подходящую степень полинома и соответствующий ей скор\n",
        "\n",
        "Эта процедура называется Grid Search и помогает найти лучшие параметры для модели.\n",
        "\n",
        "Обучите лучшую модель и сделайте predict"
      ]
    },
    {
      "cell_type": "code",
      "execution_count": 113,
      "metadata": {},
      "outputs": [
        {
          "data": {
            "text/html": [
              "<div>\n",
              "<style scoped>\n",
              "    .dataframe tbody tr th:only-of-type {\n",
              "        vertical-align: middle;\n",
              "    }\n",
              "\n",
              "    .dataframe tbody tr th {\n",
              "        vertical-align: top;\n",
              "    }\n",
              "\n",
              "    .dataframe thead th {\n",
              "        text-align: right;\n",
              "    }\n",
              "</style>\n",
              "<table border=\"1\" class=\"dataframe\">\n",
              "  <thead>\n",
              "    <tr style=\"text-align: right;\">\n",
              "      <th></th>\n",
              "      <th>x_train</th>\n",
              "      <th>y_train</th>\n",
              "      <th>x_train^2</th>\n",
              "      <th>x_train^3</th>\n",
              "      <th>x_train^4</th>\n",
              "      <th>x_train^5</th>\n",
              "      <th>x_train^6</th>\n",
              "      <th>x_train^7</th>\n",
              "      <th>x_train^8</th>\n",
              "      <th>x_train^9</th>\n",
              "      <th>x_train^10</th>\n",
              "    </tr>\n",
              "  </thead>\n",
              "  <tbody>\n",
              "    <tr>\n",
              "      <th>0</th>\n",
              "      <td>0.138368</td>\n",
              "      <td>0.838812</td>\n",
              "      <td>0.019146</td>\n",
              "      <td>0.002649</td>\n",
              "      <td>0.000367</td>\n",
              "      <td>0.000051</td>\n",
              "      <td>0.000007</td>\n",
              "      <td>9.710899e-07</td>\n",
              "      <td>1.343682e-07</td>\n",
              "      <td>1.859232e-08</td>\n",
              "      <td>2.572590e-09</td>\n",
              "    </tr>\n",
              "    <tr>\n",
              "      <th>1</th>\n",
              "      <td>0.157237</td>\n",
              "      <td>0.889313</td>\n",
              "      <td>0.024723</td>\n",
              "      <td>0.003887</td>\n",
              "      <td>0.000611</td>\n",
              "      <td>0.000096</td>\n",
              "      <td>0.000015</td>\n",
              "      <td>2.376188e-06</td>\n",
              "      <td>3.736243e-07</td>\n",
              "      <td>5.874751e-08</td>\n",
              "      <td>9.237275e-09</td>\n",
              "    </tr>\n",
              "    <tr>\n",
              "      <th>2</th>\n",
              "      <td>0.188684</td>\n",
              "      <td>1.430040</td>\n",
              "      <td>0.035602</td>\n",
              "      <td>0.006717</td>\n",
              "      <td>0.001267</td>\n",
              "      <td>0.000239</td>\n",
              "      <td>0.000045</td>\n",
              "      <td>8.514310e-06</td>\n",
              "      <td>1.606516e-06</td>\n",
              "      <td>3.031243e-07</td>\n",
              "      <td>5.719477e-08</td>\n",
              "    </tr>\n",
              "    <tr>\n",
              "      <th>3</th>\n",
              "      <td>0.685553</td>\n",
              "      <td>1.717309</td>\n",
              "      <td>0.469983</td>\n",
              "      <td>0.322198</td>\n",
              "      <td>0.220884</td>\n",
              "      <td>0.151427</td>\n",
              "      <td>0.103811</td>\n",
              "      <td>7.116823e-02</td>\n",
              "      <td>4.878957e-02</td>\n",
              "      <td>3.344783e-02</td>\n",
              "      <td>2.293025e-02</td>\n",
              "    </tr>\n",
              "    <tr>\n",
              "      <th>4</th>\n",
              "      <td>0.874237</td>\n",
              "      <td>2.032588</td>\n",
              "      <td>0.764290</td>\n",
              "      <td>0.668171</td>\n",
              "      <td>0.584140</td>\n",
              "      <td>0.510677</td>\n",
              "      <td>0.446452</td>\n",
              "      <td>3.903051e-01</td>\n",
              "      <td>3.412192e-01</td>\n",
              "      <td>2.983064e-01</td>\n",
              "      <td>2.607905e-01</td>\n",
              "    </tr>\n",
              "  </tbody>\n",
              "</table>\n",
              "</div>"
            ],
            "text/plain": [
              "    x_train   y_train  x_train^2  x_train^3  x_train^4  x_train^5  x_train^6  \\\n",
              "0  0.138368  0.838812   0.019146   0.002649   0.000367   0.000051   0.000007   \n",
              "1  0.157237  0.889313   0.024723   0.003887   0.000611   0.000096   0.000015   \n",
              "2  0.188684  1.430040   0.035602   0.006717   0.001267   0.000239   0.000045   \n",
              "3  0.685553  1.717309   0.469983   0.322198   0.220884   0.151427   0.103811   \n",
              "4  0.874237  2.032588   0.764290   0.668171   0.584140   0.510677   0.446452   \n",
              "\n",
              "      x_train^7     x_train^8     x_train^9    x_train^10  \n",
              "0  9.710899e-07  1.343682e-07  1.859232e-08  2.572590e-09  \n",
              "1  2.376188e-06  3.736243e-07  5.874751e-08  9.237275e-09  \n",
              "2  8.514310e-06  1.606516e-06  3.031243e-07  5.719477e-08  \n",
              "3  7.116823e-02  4.878957e-02  3.344783e-02  2.293025e-02  \n",
              "4  3.903051e-01  3.412192e-01  2.983064e-01  2.607905e-01  "
            ]
          },
          "execution_count": 113,
          "metadata": {},
          "output_type": "execute_result"
        }
      ],
      "source": [
        "import pandas as pd\n",
        "\n",
        "from sklearn.linear_model import LinearRegression\n",
        "from sklearn.metrics import r2_score\n",
        "\n",
        "df = pd.read_csv('3.10_non_linear.csv')\n",
        "\n",
        "columns = ['x_train']\n",
        "\n",
        "for p in range(2, 11):\n",
        "    column_name = f'x_train^{p}'\n",
        "    df[column_name] = df['x_train'] ** p\n",
        "    columns.append(column_name)\n",
        "\n",
        "df.head()"
      ]
    },
    {
      "cell_type": "code",
      "execution_count": 114,
      "metadata": {},
      "outputs": [
        {
          "name": "stdout",
          "output_type": "stream",
          "text": [
            "Степень полинома: 1, r2 score: 0.5194693682784115\n",
            "Степень полинома: 2, r2 score: 0.5334743428787219\n",
            "Степень полинома: 3, r2 score: 0.8884043369162163\n",
            "Степень полинома: 4, r2 score: 0.8954938957170193\n",
            "Степень полинома: 5, r2 score: 0.8955568441439694\n",
            "Степень полинома: 6, r2 score: 0.8993403708180607\n",
            "Степень полинома: 7, r2 score: 0.90046097540244\n",
            "Степень полинома: 8, r2 score: 0.9086556247250233\n",
            "Степень полинома: 9, r2 score: 0.9088071215143878\n",
            "Степень полинома: 10, r2 score: 0.9091133831292173\n"
          ]
        }
      ],
      "source": [
        "y = df['y_train']\n",
        "\n",
        "for i in range(1, 11):    \n",
        "    X = df[columns].iloc[:, :i]\n",
        "    reg = LinearRegression().fit(X, y)\n",
        "    print(f'Степень полинома: {i}, r2 score: {r2_score(y,reg.predict(X))}')"
      ]
    },
    {
      "cell_type": "markdown",
      "metadata": {
        "id": "z3dSmlAFzhU9"
      },
      "source": [
        "**Задание среднего уровня** Напишите класс для обучения модели, который содержит:\n",
        "\n",
        "* функцию `.fit(X, y)` , которая принимает на вход массив фичей `X`, массив таргетов `y` и обучает коэффициенты регрессии. Код для обучения взять из первого урока модуля *Постановка ML задачи линейной регрессии*\n",
        "* функцию `.predict(X)`, которая по массиву фичей `X` возвращает массив предсказаний `y`\n",
        "\n",
        "Нужно использовать код для аналитически вычисляемых коэффициентов. \n",
        "\n",
        "Это задание позволит понять, как работает линейная регрессия \"внутри\" библиотечной реализации."
      ]
    },
    {
      "cell_type": "code",
      "execution_count": 128,
      "metadata": {
        "id": "rayvZFx1zhU9"
      },
      "outputs": [
        {
          "name": "stdout",
          "output_type": "stream",
          "text": [
            "CustomLinearReg\n",
            "Коэффициенты: [ 2.95231629 -1.2779185   0.13665884], r2 score: 0.8350917275477862\n",
            "\n",
            "LinearRegression\n",
            "Коэффициенты: [ 2.00644167 -0.98019974  0.10894323], r2 score: 0.8884043369162163\n"
          ]
        }
      ],
      "source": [
        "import numpy as np\n",
        "\n",
        "class CustomLinearReg:\n",
        "    def __init__(self):\n",
        "        pass\n",
        "    \n",
        "    def fit(self, X, y):\n",
        "\n",
        "        # добавление единичного столбца ухудшает модель\n",
        "        # columns = list(X.columns)\n",
        "        # X['bias'] = 1\n",
        "        # X = X[['bias'] + columns]\n",
        "\n",
        "        self.weights = np.linalg.inv(\n",
        "            (X.T).dot(X)\n",
        "        ).dot(\n",
        "            X.T\n",
        "        ).dot(y)\n",
        "    \n",
        "    def predict(self, X):\n",
        "        return X.dot(self.weights)\n",
        "\n",
        "a = CustomLinearReg()\n",
        "\n",
        "# при степени полинома меньше 3 почему-то работает плохо\n",
        "X = df[columns].iloc[:, :3]\n",
        "y = df['y_train']\n",
        "\n",
        "a.fit(X, y)\n",
        "reg.fit(X, y)\n",
        "print(f'CustomLinearReg\\nКоэффициенты: {a.weights}, r2 score: {r2_score(y, a.predict(X))}')\n",
        "print(f'\\nLinearRegression\\nКоэффициенты: {reg.coef_}, r2 score: {r2_score(y, reg.predict(X))}')\n"
      ]
    },
    {
      "cell_type": "markdown",
      "metadata": {
        "id": "uwWP7aPOzhVA"
      },
      "source": [
        "**Задание высокого уровня**\n",
        "\n",
        "1. разделите датасет с домами Бостона из Урока 2 (таргет и фичи) на две части: в одной части 80% датасета (назовём train) в другой 20% (назовём valid) с помощью функции `train_test_split` из библиотеки `sklearn`\n",
        "1. обучите модель только на train датасете\n",
        "1. постройте предсказания valid датасете\n",
        "1. Посчитайте  `r2 score` на валидационном сете\n",
        "\n",
        "После этого примените к обеим датасетам z-преобразование и повторите шаги 2-4. Как изменилась метрика r2?\n",
        "\n",
        "Это задание поможет понять, как валидировать линейную регрессию (и другие модели) на отложенной выборке."
      ]
    },
    {
      "cell_type": "code",
      "execution_count": 184,
      "metadata": {
        "id": "f6p8B0VB5mHa"
      },
      "outputs": [
        {
          "name": "stdout",
          "output_type": "stream",
          "text": [
            "0 0.5892223849182514\n",
            "0 0.5892223849182505 \n",
            "\n",
            "1 0.763417443213847\n",
            "1 0.7634174432138471 \n",
            "\n",
            "2 0.7789207451814423\n",
            "2 0.7789207451814418 \n",
            "\n",
            "3 0.7952617563243876\n",
            "3 0.7952617563243857 \n",
            "\n",
            "4 0.7263451459702503\n",
            "4 0.7263451459702509 \n",
            "\n",
            "5 0.7334492147453111\n",
            "5 0.7334492147453071 \n",
            "\n",
            "6 0.6839026890069033\n",
            "6 0.6839026890069029 \n",
            "\n",
            "7 0.5785415472763411\n",
            "7 0.5785415472763407 \n",
            "\n",
            "8 0.707962796713453\n",
            "8 0.7079627967134524 \n",
            "\n"
          ]
        }
      ],
      "source": [
        "from sklearn.datasets import load_boston\n",
        "from sklearn.model_selection import train_test_split\n",
        "from sklearn.linear_model import LinearRegression\n",
        "from sklearn.metrics import r2_score\n",
        "from sklearn.preprocessing import StandardScaler\n",
        "\n",
        "data_url = \"http://lib.stat.cmu.edu/datasets/boston\"\n",
        "raw_df = pd.read_csv(data_url, sep=\"\\s+\", skiprows=22, header=None)\n",
        "\n",
        "for i in range(9):\n",
        "\n",
        "    # До стандартизиованной оценки\n",
        "    data = np.hstack([raw_df.values[::2, :], raw_df.values[1::2, :2]])\n",
        "    target = raw_df.values[1::2, 2]\n",
        "\n",
        "    X_train, X_valid, y_train, y_valid = train_test_split(data, target, test_size=0.2, random_state=i)\n",
        "    reg = LinearRegression().fit(X_train, y_train)\n",
        "    print(i, r2_score(y_valid, reg.predict(X_valid)))\n",
        "\n",
        "    # После стандартизированной оценки \n",
        "\n",
        "    data = StandardScaler().fit_transform(data)\n",
        "    target = StandardScaler().fit_transform(target.reshape(-1, 1))\n",
        "\n",
        "    X_train, X_valid, y_train, y_valid = train_test_split(data, target, test_size=0.2, random_state=i)\n",
        "\n",
        "    reg = LinearRegression().fit(X_train, y_train)\n",
        "\n",
        "    print(i, r2_score(y_valid, reg.predict(X_valid)), '\\n')"
      ]
    },
    {
      "cell_type": "markdown",
      "metadata": {},
      "source": [
        "Похоже, для такой модели приведение данных к стандартизированной оценке не имеет смысла. Верноятно, вместо масштабированния данных с тем же успехом можно масштабировать коэффициенты линейной регрессии, что и происходит при применении модели."
      ]
    }
  ],
  "metadata": {
    "colab": {
      "collapsed_sections": [],
      "provenance": []
    },
    "kernelspec": {
      "display_name": "Python 3.9.6 64-bit",
      "language": "python",
      "name": "python3"
    },
    "language_info": {
      "codemirror_mode": {
        "name": "ipython",
        "version": 3
      },
      "file_extension": ".py",
      "mimetype": "text/x-python",
      "name": "python",
      "nbconvert_exporter": "python",
      "pygments_lexer": "ipython3",
      "version": "3.9.6"
    },
    "vscode": {
      "interpreter": {
        "hash": "37be37ad8006aa88fc89cee14533a072e8fd620157e18a3f0302e9281d761604"
      }
    }
  },
  "nbformat": 4,
  "nbformat_minor": 0
}
