{
  "cells": [
    {
      "cell_type": "markdown",
      "metadata": {
        "id": "9zmQCpvzzeTK"
      },
      "source": [
        "### Домашняя работа\n",
        "\n",
        "Даны точки $x$ и значения в этих точках $y$. Нормализуйте $y$ с помощью *z-score* и постройте график зависимости нормализованных значений от $x$. Для графика используйте `.scatter(x,y_tansformed)`"
      ]
    },
    {
      "cell_type": "code",
      "execution_count": 12,
      "metadata": {
        "id": "O8W9tZnFzeTL",
        "outputId": "cb5296ad-1cb3-4925-961c-149132c1bdf3"
      },
      "outputs": [
        {
          "data": {
            "text/plain": [
              "<matplotlib.collections.PathCollection at 0x1623dd475e0>"
            ]
          },
          "execution_count": 12,
          "metadata": {},
          "output_type": "execute_result"
        },
        {
          "data": {
            "image/png": "[encoded data removed]",
            "text/plain": [
              "<Figure size 432x288 with 1 Axes>"
            ]
          },
          "metadata": {
            "needs_background": "light"
          },
          "output_type": "display_data"
        }
      ],
      "source": [
        "import numpy as np\n",
        "from sklearn.preprocessing import StandardScaler\n",
        "from matplotlib import pyplot as plt\n",
        "\n",
        "x = np.linspace(1,10,num=10)\n",
        "y = np.array(\n",
        "    [1.,  3.,  4.,  2., 10.,  5.,  5.,  2.,  5., 10.],\n",
        "    dtype=np.float32\n",
        ")\n",
        "\n",
        "y = y.reshape(-1, 1)\n",
        "\n",
        "y_transformed = StandardScaler().fit_transform(y)\n",
        "\n",
        "plt.scatter(x, y_transformed)"
      ]
    }
  ],
  "metadata": {
    "colab": {
      "collapsed_sections": [],
      "provenance": []
    },
    "kernelspec": {
      "display_name": "Python 3.9.6 64-bit",
      "language": "python",
      "name": "python3"
    },
    "language_info": {
      "codemirror_mode": {
        "name": "ipython",
        "version": 3
      },
      "file_extension": ".py",
      "mimetype": "text/x-python",
      "name": "python",
      "nbconvert_exporter": "python",
      "pygments_lexer": "ipython3",
      "version": "3.9.6"
    },
    "vscode": {
      "interpreter": {
        "hash": "37be37ad8006aa88fc89cee14533a072e8fd620157e18a3f0302e9281d761604"
      }
    }
  },
  "nbformat": 4,
  "nbformat_minor": 0
}
