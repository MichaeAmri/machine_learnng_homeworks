{
 "nbformat": 4,
 "nbformat_minor": 0,
 "metadata": {
  "kernelspec": {
   "display_name": "Python 3",
   "language": "python",
   "name": "python3"
  },
  "language_info": {
   "codemirror_mode": {
    "name": "ipython",
    "version": 3
   },
   "file_extension": ".py",
   "mimetype": "text/x-python",
   "name": "python",
   "nbconvert_exporter": "python",
   "pygments_lexer": "ipython3",
   "version": "3.6.3"
  },
  "colab": {
   "provenance": []
  }
 },
 "cells": [
  {
   "cell_type": "markdown",
   "metadata": {
    "id": "p0RpWMuyhXNc"
   },
   "source": [
    "# Урок 4. Метрики качества классификации ч.2\n",
    "\n",
    "Продолжим работу с метриками классификации. В предыдущем задании мы разобрали матрицу ошибок и две основные метрики, которые используются при бинарной классификации.\n",
    "\n",
    "Сейчас рассмотрим F-меру - совокупную метрику по precision и recall - и более сложную AUC-ROC."
   ]
  },
  {
   "cell_type": "markdown",
   "metadata": {
    "id": "desLnfjBhXNe"
   },
   "source": [
    "### 2.1\n",
    "Из задания к предыдущему уроку выберите классификатор, который давал наименьшее значение recall, вычислите для него precision, применив precision_score, и самостоятельно посчитайте F1-меру (расчеты должны присутствовать). Затем проверьте ответ, используя встроенную функцию.\n",
    "\n",
    "Сравните полученную f1-меру со значением среднего арифметического полноты и точности."
   ]
  },
  {
   "cell_type": "code",
   "metadata": {
    "id": "PqBv_cQmhXNf"
   },
   "source": [
    "import os\n",
    "import pickle\n",
    "import numpy as np\n",
    "from sklearn.metrics import precision_score, f1_score, recall_score, accuracy_score"
   ],
   "execution_count": 1,
   "outputs": []
  },
  {
   "cell_type": "code",
   "metadata": {
    "id": "7inF9IHdhXNl"
   },
   "source": [
    "X_test = np.load('X_test.npy')\n",
    "y_test = np.load('y_test.npy')\n",
    "X_train = np.load('X_train.npy')\n",
    "y_train = np.load('y_train.npy')\n",
    "model = pickle.load(open('models/LogisticRegression.sav', 'rb'))"
   ],
   "execution_count": 18,
   "outputs": []
  },
  {
   "cell_type": "code",
   "execution_count": 3,
   "outputs": [
    {
     "data": {
      "text/plain": "0.7901234567901234"
     },
     "execution_count": 3,
     "metadata": {},
     "output_type": "execute_result"
    }
   ],
   "source": [
    "precision_score(y_test, model.predict(X_test))"
   ],
   "metadata": {
    "collapsed": false
   }
  },
  {
   "cell_type": "code",
   "execution_count": 4,
   "outputs": [
    {
     "name": "stdout",
     "output_type": "stream",
     "text": [
      "0.7434090315844426\n"
     ]
    },
    {
     "data": {
      "text/plain": "0.7398843930635839"
     },
     "execution_count": 4,
     "metadata": {},
     "output_type": "execute_result"
    }
   ],
   "source": [
    "accuracy = accuracy_score(y_test, model.predict(X_test))\n",
    "recall = recall_score(y_test, model.predict(X_test))\n",
    "my_f1_score = 2 * accuracy * recall / (accuracy + recall)\n",
    "\n",
    "print(my_f1_score)\n",
    "f1_score(y_test, model.predict(X_test))\n"
   ],
   "metadata": {
    "collapsed": false
   }
  },
  {
   "cell_type": "code",
   "execution_count": 5,
   "outputs": [
    {
     "data": {
      "text/plain": "0.7469292259699747"
     },
     "execution_count": 5,
     "metadata": {},
     "output_type": "execute_result"
    }
   ],
   "source": [
    "(accuracy + recall) / 2\n",
    "# рассчитанная f1-мера и среднее арифметическое полноты и точности совпали до 2-го знака"
   ],
   "metadata": {
    "collapsed": false
   }
  },
  {
   "cell_type": "markdown",
   "metadata": {
    "id": "zx1hiPXxhXNp"
   },
   "source": [
    "В библиотеке sklearn есть удобная функция classification_report, возвращающая precision, recall, F-меру и количество экземпляров каждого класса в удобном для чтения формате. Также существует функция precision_recall_fscore_support, возвращающая те же самые метрики, но в форме массива.\n",
    "\n",
    "### 2.2\n",
    "Для каждого классификатора из предыдущего урока рассчитайте и выведите следующие импортированные метрики."
   ]
  },
  {
   "cell_type": "code",
   "metadata": {
    "id": "vhcIcGX5hXNq"
   },
   "source": [
    "from sklearn.metrics import precision_recall_fscore_support, classification_report"
   ],
   "execution_count": 6,
   "outputs": []
  },
  {
   "cell_type": "code",
   "metadata": {
    "id": "zUPZhuTGhXNt"
   },
   "source": [
    "names = [name[:-4] for name in os.listdir('models/')]\n",
    "models = [pickle.load(open('models/' + model, 'rb')) for model in os.listdir('models/')]\n",
    "classifiers = dict(zip(names, models))\n",
    "\n",
    "for name, classifier in classifiers.items():\n",
    "    print(name,\n",
    "          classification_report(y_test, classifier.predict(X_test)),\n",
    "          precision_recall_fscore_support(y_test, classifier.predict(X_test)),\n",
    "          sep='\\n', end='\\n\\n')\n",
    "\n"
   ],
   "execution_count": 7,
   "outputs": [
    {
     "name": "stdout",
     "output_type": "stream",
     "text": [
      "DecisionTreeClassifier\n",
      "              precision    recall  f1-score   support\n",
      "\n",
      "           0       0.81      0.85      0.83       131\n",
      "           1       0.78      0.72      0.75        92\n",
      "\n",
      "    accuracy                           0.80       223\n",
      "   macro avg       0.79      0.79      0.79       223\n",
      "weighted avg       0.80      0.80      0.80       223\n",
      "\n",
      "(array([0.8115942 , 0.77647059]), array([0.85496183, 0.7173913 ]), array([0.83271375, 0.74576271]), array([131,  92], dtype=int64))\n",
      "\n",
      "GaussianNB\n",
      "              precision    recall  f1-score   support\n",
      "\n",
      "           0       0.80      0.85      0.82       131\n",
      "           1       0.76      0.70      0.73        92\n",
      "\n",
      "    accuracy                           0.78       223\n",
      "   macro avg       0.78      0.77      0.77       223\n",
      "weighted avg       0.78      0.78      0.78       223\n",
      "\n",
      "(array([0.79856115, 0.76190476]), array([0.84732824, 0.69565217]), array([0.82222222, 0.72727273]), array([131,  92], dtype=int64))\n",
      "\n",
      "KNeighborsClassifier\n",
      "              precision    recall  f1-score   support\n",
      "\n",
      "           0       0.81      0.85      0.83       131\n",
      "           1       0.77      0.72      0.74        92\n",
      "\n",
      "    accuracy                           0.79       223\n",
      "   macro avg       0.79      0.78      0.78       223\n",
      "weighted avg       0.79      0.79      0.79       223\n",
      "\n",
      "(array([0.81021898, 0.76744186]), array([0.84732824, 0.7173913 ]), array([0.82835821, 0.74157303]), array([131,  92], dtype=int64))\n",
      "\n",
      "LogisticRegression\n",
      "              precision    recall  f1-score   support\n",
      "\n",
      "           0       0.80      0.87      0.84       131\n",
      "           1       0.79      0.70      0.74        92\n",
      "\n",
      "    accuracy                           0.80       223\n",
      "   macro avg       0.80      0.78      0.79       223\n",
      "weighted avg       0.80      0.80      0.80       223\n",
      "\n",
      "(array([0.8028169 , 0.79012346]), array([0.87022901, 0.69565217]), array([0.83516484, 0.73988439]), array([131,  92], dtype=int64))\n",
      "\n"
     ]
    }
   ]
  },
  {
   "cell_type": "markdown",
   "metadata": {
    "id": "sAisAae0hXNx"
   },
   "source": [
    "Вернемся к классификатору LogisticRegression, который мы обучали в предыдущем задании. Там мы не затрагивали настройку гиперпараметров: сделать это можно с помощью LogisticRegressionCV - перебора параметров по сетке с последующей кросс-валидацией (по сути это аналог GridSearchCV, но со своими параметрами внутри, применимыми только к логистической регрессии). Этот класс создан специально для логистической регрессии, т.к. для нее известны эффективные алгоритмы перебора параметров.\n",
    "\n",
    "У LogisticRegression есть гиперпараметр C - обратный коэффициент регуляризации. Не вдаваясь в подробное описание по формуле, можно сказать, что C соответствует \"сложности\" модели: чем больше C, тем более сложные зависимости может восстанавливать модель; если параметр C слишком мал (слишком сильная регуляризация), то модель окажется недообученной, а если наоборот регуляризация слишком слабая (т.е. C принимает большие значения), то скорее всего модель окажется переобученной, потому как модель будет слишком \"бояться\" ошибиться на обучающей выборке."
   ]
  },
  {
   "cell_type": "markdown",
   "metadata": {
    "id": "L-j5LLf3hXNx"
   },
   "source": [
    "### 2.3 \n",
    "\n",
    "1. Используя StratifiedKFold, разбейте данные для кросс-валидации по 5-ти блокам (не забывайте во всех методах использовать random_state=17).\n",
    "2. С помощью numpy.logspace разбейте интервал (-1, 2) на 500 значений.\n",
    "3. С помощью LogisticRegressionCV подберите оптимальный параметр C: установите гиперпараметр Cs равным объекту из п.2 (разбиение интервала (-1, 2) отвечает за подбор обратного коэффициента регуляризации C); cv равным объекту из п.1 (разбиение для кросс-валидации); scoring равным \"roc_auc\" (отвечает за оптимизацию гиперпараметров на кросс-валидации: метрика, установленная в scoring, контролирует, как оценивать модель при каждом из наборе параметров, т.е. показывает, какая метрика должна быть наилучшей).\n",
    "4. Обучите полученную модель на тренировочных данных."
   ]
  },
  {
   "cell_type": "code",
   "metadata": {
    "id": "H-0WuZbphXNy"
   },
   "source": [
    "from sklearn.model_selection import StratifiedKFold\n",
    "from sklearn.linear_model import LogisticRegressionCV\n",
    "import numpy as np"
   ],
   "execution_count": 15,
   "outputs": []
  },
  {
   "cell_type": "code",
   "metadata": {
    "id": "0ezY2p2RhXN4"
   },
   "source": [
    "skf = StratifiedKFold(n_splits=5, random_state=17, shuffle=True)\n",
    "C = np.logspace(-1, 2, 500)\n",
    "log_reg_cv = LogisticRegressionCV(Cs=C, cv=skf, scoring='roc_auc')\n",
    "log_reg_cv.fit(X_train, y_train)"
   ],
   "execution_count": 40,
   "outputs": [
    {
     "data": {
      "text/plain": "LogisticRegressionCV(Cs=array([  0.1       ,   0.10139395,   0.10280732,   0.1042404 ,\n         0.10569346,   0.10716676,   0.10866061,   0.11017528,\n         0.11171107,   0.11326826,   0.11484715,   0.11644806,\n         0.11807128,   0.11971713,   0.12138593,   0.12307798,\n         0.12479362,   0.12653318,   0.12829698,   0.13008537,\n         0.13189869,   0.13373729,   0.13560151,   0.13749172,\n         0.13940828,   0.14135156,   0.14332192,   0.14531975,\n         0.14734543,   0.149399...\n        72.73165113,  73.7454909 ,  74.77346305,  75.81576458,\n        76.87259522,  77.9441575 ,  79.03065679,  80.13230128,\n        81.24930211,  82.38187331,  83.53023195,  84.69459808,\n        85.87519485,  87.07224849,  88.28598841,  89.51664721,\n        90.76446073,  92.02966809,  93.31251175,  94.61323756,\n        95.93209478,  97.26933615,  98.62521795, 100.        ]),\n                     cv=StratifiedKFold(n_splits=5, random_state=17, shuffle=True),\n                     random_state=17, scoring='roc_auc')",
      "text/html": "<style>#sk-container-id-4 {color: black;background-color: white;}#sk-container-id-4 pre{padding: 0;}#sk-container-id-4 div.sk-toggleable {background-color: white;}#sk-container-id-4 label.sk-toggleable__label {cursor: pointer;display: block;width: 100%;margin-bottom: 0;padding: 0.3em;box-sizing: border-box;text-align: center;}#sk-container-id-4 label.sk-toggleable__label-arrow:before {content: \"▸\";float: left;margin-right: 0.25em;color: #696969;}#sk-container-id-4 label.sk-toggleable__label-arrow:hover:before {color: black;}#sk-container-id-4 div.sk-estimator:hover label.sk-toggleable__label-arrow:before {color: black;}#sk-container-id-4 div.sk-toggleable__content {max-height: 0;max-width: 0;overflow: hidden;text-align: left;background-color: #f0f8ff;}#sk-container-id-4 div.sk-toggleable__content pre {margin: 0.2em;color: black;border-radius: 0.25em;background-color: #f0f8ff;}#sk-container-id-4 input.sk-toggleable__control:checked~div.sk-toggleable__content {max-height: 200px;max-width: 100%;overflow: auto;}#sk-container-id-4 input.sk-toggleable__control:checked~label.sk-toggleable__label-arrow:before {content: \"▾\";}#sk-container-id-4 div.sk-estimator input.sk-toggleable__control:checked~label.sk-toggleable__label {background-color: #d4ebff;}#sk-container-id-4 div.sk-label input.sk-toggleable__control:checked~label.sk-toggleable__label {background-color: #d4ebff;}#sk-container-id-4 input.sk-hidden--visually {border: 0;clip: rect(1px 1px 1px 1px);clip: rect(1px, 1px, 1px, 1px);height: 1px;margin: -1px;overflow: hidden;padding: 0;position: absolute;width: 1px;}#sk-container-id-4 div.sk-estimator {font-family: monospace;background-color: #f0f8ff;border: 1px dotted black;border-radius: 0.25em;box-sizing: border-box;margin-bottom: 0.5em;}#sk-container-id-4 div.sk-estimator:hover {background-color: #d4ebff;}#sk-container-id-4 div.sk-parallel-item::after {content: \"\";width: 100%;border-bottom: 1px solid gray;flex-grow: 1;}#sk-container-id-4 div.sk-label:hover label.sk-toggleable__label {background-color: #d4ebff;}#sk-container-id-4 div.sk-serial::before {content: \"\";position: absolute;border-left: 1px solid gray;box-sizing: border-box;top: 0;bottom: 0;left: 50%;z-index: 0;}#sk-container-id-4 div.sk-serial {display: flex;flex-direction: column;align-items: center;background-color: white;padding-right: 0.2em;padding-left: 0.2em;position: relative;}#sk-container-id-4 div.sk-item {position: relative;z-index: 1;}#sk-container-id-4 div.sk-parallel {display: flex;align-items: stretch;justify-content: center;background-color: white;position: relative;}#sk-container-id-4 div.sk-item::before, #sk-container-id-4 div.sk-parallel-item::before {content: \"\";position: absolute;border-left: 1px solid gray;box-sizing: border-box;top: 0;bottom: 0;left: 50%;z-index: -1;}#sk-container-id-4 div.sk-parallel-item {display: flex;flex-direction: column;z-index: 1;position: relative;background-color: white;}#sk-container-id-4 div.sk-parallel-item:first-child::after {align-self: flex-end;width: 50%;}#sk-container-id-4 div.sk-parallel-item:last-child::after {align-self: flex-start;width: 50%;}#sk-container-id-4 div.sk-parallel-item:only-child::after {width: 0;}#sk-container-id-4 div.sk-dashed-wrapped {border: 1px dashed gray;margin: 0 0.4em 0.5em 0.4em;box-sizing: border-box;padding-bottom: 0.4em;background-color: white;}#sk-container-id-4 div.sk-label label {font-family: monospace;font-weight: bold;display: inline-block;line-height: 1.2em;}#sk-container-id-4 div.sk-label-container {text-align: center;}#sk-container-id-4 div.sk-container {/* jupyter's `normalize.less` sets `[hidden] { display: none; }` but bootstrap.min.css set `[hidden] { display: none !important; }` so we also need the `!important` here to be able to override the default hidden behavior on the sphinx rendered scikit-learn.org. See: https://github.com/scikit-learn/scikit-learn/issues/21755 */display: inline-block !important;position: relative;}#sk-container-id-4 div.sk-text-repr-fallback {display: none;}</style><div id=\"sk-container-id-4\" class=\"sk-top-container\"><div class=\"sk-text-repr-fallback\"><pre>LogisticRegressionCV(Cs=array([  0.1       ,   0.10139395,   0.10280732,   0.1042404 ,\n         0.10569346,   0.10716676,   0.10866061,   0.11017528,\n         0.11171107,   0.11326826,   0.11484715,   0.11644806,\n         0.11807128,   0.11971713,   0.12138593,   0.12307798,\n         0.12479362,   0.12653318,   0.12829698,   0.13008537,\n         0.13189869,   0.13373729,   0.13560151,   0.13749172,\n         0.13940828,   0.14135156,   0.14332192,   0.14531975,\n         0.14734543,   0.149399...\n        72.73165113,  73.7454909 ,  74.77346305,  75.81576458,\n        76.87259522,  77.9441575 ,  79.03065679,  80.13230128,\n        81.24930211,  82.38187331,  83.53023195,  84.69459808,\n        85.87519485,  87.07224849,  88.28598841,  89.51664721,\n        90.76446073,  92.02966809,  93.31251175,  94.61323756,\n        95.93209478,  97.26933615,  98.62521795, 100.        ]),\n                     cv=StratifiedKFold(n_splits=5, random_state=17, shuffle=True),\n                     random_state=17, scoring=&#x27;roc_auc&#x27;)</pre><b>In a Jupyter environment, please rerun this cell to show the HTML representation or trust the notebook. <br />On GitHub, the HTML representation is unable to render, please try loading this page with nbviewer.org.</b></div><div class=\"sk-container\" hidden><div class=\"sk-item\"><div class=\"sk-estimator sk-toggleable\"><input class=\"sk-toggleable__control sk-hidden--visually\" id=\"sk-estimator-id-4\" type=\"checkbox\" checked><label for=\"sk-estimator-id-4\" class=\"sk-toggleable__label sk-toggleable__label-arrow\">LogisticRegressionCV</label><div class=\"sk-toggleable__content\"><pre>LogisticRegressionCV(Cs=array([  0.1       ,   0.10139395,   0.10280732,   0.1042404 ,\n         0.10569346,   0.10716676,   0.10866061,   0.11017528,\n         0.11171107,   0.11326826,   0.11484715,   0.11644806,\n         0.11807128,   0.11971713,   0.12138593,   0.12307798,\n         0.12479362,   0.12653318,   0.12829698,   0.13008537,\n         0.13189869,   0.13373729,   0.13560151,   0.13749172,\n         0.13940828,   0.14135156,   0.14332192,   0.14531975,\n         0.14734543,   0.149399...\n        72.73165113,  73.7454909 ,  74.77346305,  75.81576458,\n        76.87259522,  77.9441575 ,  79.03065679,  80.13230128,\n        81.24930211,  82.38187331,  83.53023195,  84.69459808,\n        85.87519485,  87.07224849,  88.28598841,  89.51664721,\n        90.76446073,  92.02966809,  93.31251175,  94.61323756,\n        95.93209478,  97.26933615,  98.62521795, 100.        ]),\n                     cv=StratifiedKFold(n_splits=5, random_state=17, shuffle=True),\n                     random_state=17, scoring=&#x27;roc_auc&#x27;)</pre></div></div></div></div></div>"
     },
     "execution_count": 40,
     "metadata": {},
     "output_type": "execute_result"
    }
   ]
  },
  {
   "cell_type": "markdown",
   "metadata": {
    "id": "kaE1oixihXN8"
   },
   "source": [
    "### 2.4\n",
    "Используя метод plot из matplotlib.pyplot, выведите график зависимости auc_roc от значения C."
   ]
  },
  {
   "cell_type": "markdown",
   "metadata": {
    "id": "yRsW0oWQhXN9"
   },
   "source": [
    "*Примечание: значения по оси x - разбиение с помощью np.logspace из п.2 предыдущего задания, а значения по оси y - среднее значение roc_auc по каждой валидации, т.е. среднее значение из полученных на каждом из 5-ти разбиений при данном параметре C (используйте метод scores_ объекта, который инкапсулирует LogisticRegressionCV).*"
   ]
  },
  {
   "cell_type": "code",
   "metadata": {
    "id": "5H0CAgq9hXN-"
   },
   "source": [
    "import matplotlib.pyplot as plt"
   ],
   "execution_count": 28,
   "outputs": []
  },
  {
   "cell_type": "code",
   "metadata": {
    "id": "KTZtXirYhXOC"
   },
   "source": [
    "fig, ax = plt.subplots(figsize=(12, 6))\n",
    "plt.plot(C, np.mean(log_reg_cv.scores_[1], axis=0))\n",
    "ax.set_xlabel('Гиперпараметр С')\n",
    "ax.set_ylabel('Среднее значение auc_roc по классам кросс-валидации')\n",
    "plt.grid()\n",
    "plt.show()\n"
   ],
   "execution_count": 60,
   "outputs": [
    {
     "data": {
      "text/plain": "<Figure size 864x432 with 1 Axes>",
      "image/png": "[encoded data removed]"
     },
     "metadata": {
      "needs_background": "light"
     },
     "output_type": "display_data"
    }
   ]
  },
  {
   "cell_type": "markdown",
   "metadata": {
    "id": "lv9qcBE4hXOH"
   },
   "source": [
    "### 2.5\n",
    "С помощью метода C_ того же объекта выведите лучшее значение C. Выведите более конкретную область графика (область ~15 точкам по x), включающую лучшее значение C.\n",
    "\n",
    "*Примечание: используйте plt.xlim.*"
   ]
  },
  {
   "cell_type": "code",
   "metadata": {
    "id": "BUoS6KvRhXOI"
   },
   "source": [
    "fig, ax = plt.subplots(figsize=(12, 6))\n",
    "\n",
    "plt.plot(C, np.mean(log_reg_cv.scores_[1], axis=0))\n",
    "\n",
    "ax.set_xlabel('Гиперпараметр С')\n",
    "ax.set_ylabel('Среднее значение auc_roc по классам кросс-валидации')\n",
    "\n",
    "plt.axvline(log_reg_cv.C_, linestyle='--', color='red', label=f'Лучшее значение параметра С')\n",
    "plt.xlim(log_reg_cv.C_ - 2, log_reg_cv.C_ + 13)\n",
    "plt.legend()\n",
    "plt.grid()\n",
    "plt.show()\n",
    "\n",
    "print(log_reg_cv.C_)"
   ],
   "execution_count": 84,
   "outputs": [
    {
     "data": {
      "text/plain": "<Figure size 864x432 with 1 Axes>",
      "image/png": "[encoded data removed]"
     },
     "metadata": {
      "needs_background": "light"
     },
     "output_type": "display_data"
    },
    {
     "name": "stdout",
     "output_type": "stream",
     "text": [
      "[1.0966806]\n"
     ]
    }
   ]
  },
  {
   "cell_type": "markdown",
   "metadata": {
    "id": "d6ihFwlJhXOL"
   },
   "source": [
    "### 2.6\n",
    "С помощью метода predict_proba получите вероятности принадлежности объектов тестовой выборки к классам. Постройте график roc_auc для тестовой выборки и выведите значение auc."
   ]
  },
  {
   "cell_type": "markdown",
   "metadata": {
    "id": "H0f_DNEMhXOM"
   },
   "source": [
    "**Пример** построения графика."
   ]
  },
  {
   "cell_type": "code",
   "metadata": {
    "id": "WzMU7ULahXOM"
   },
   "source": [
    "from sklearn.metrics import roc_auc_score, roc_curve"
   ],
   "execution_count": 13,
   "outputs": []
  },
  {
   "cell_type": "code",
   "metadata": {
    "id": "Vv5vQq-_hXOR",
    "outputId": "802337a2-3f55-4021-e8d7-0488e63261ba",
    "pycharm": {
     "is_executing": true
    }
   },
   "source": [
    "probas = logit_search.fit(x_train, y_train).predict_proba(x_train)\n",
    "fpr, tpr, _ = roc_curve(y_train, probas[:, 1])\n",
    "auc = roc_auc_score(y_train, probas[:, 1])\n",
    "plt.plot(fpr, tpr, label=\"auc=\" + str(auc))\n",
    "plt.legend(loc=4)"
   ],
   "execution_count": null,
   "outputs": []
  },
  {
   "cell_type": "code",
   "metadata": {
    "id": "9ptD2581hXOY"
   },
   "source": [
    "fig, ax = plt.subplots(figsize=(8, 8))\n",
    "\n",
    "probas = log_reg_cv.predict_proba(X_train)\n",
    "fpr, tpr, _ = roc_curve(y_train, probas[:, 1])\n",
    "auc = roc_auc_score(y_train, probas[:, 1])\n",
    "plt.plot(fpr, tpr, label=\"auc=\" + str(auc))\n",
    "plt.legend(loc=4)\n",
    "plt.grid()\n",
    "plt.show()"
   ],
   "execution_count": 93,
   "outputs": [
    {
     "data": {
      "text/plain": "<Figure size 576x576 with 1 Axes>",
      "image/png": "[encoded data removed]"
     },
     "metadata": {
      "needs_background": "light"
     },
     "output_type": "display_data"
    }
   ]
  }
 ]
}
